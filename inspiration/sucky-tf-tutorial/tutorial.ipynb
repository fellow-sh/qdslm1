{
 "cells": [
  {
   "cell_type": "markdown",
   "metadata": {},
   "source": [
    "# Very Basic Sentiment Analysis Tutorial\n",
    "\n",
    "This is a Jupyter notebook that implements the tutorial described by [an article by Rashida Nasrin Sucky](https://towardsdatascience.com/a-complete-step-by-step-tutorial-on-sentiment-analysis-in-keras-and-tensorflow-ea420cc8913f)."
   ]
  },
  {
   "cell_type": "markdown",
   "metadata": {},
   "source": [
    "## Data Preparation\n",
    "\n",
    "Download the the dataset [\"Reviews of Amazon Baby Products\"](https://www.kaggle.com/datasets/sameersmahajan/reviews-of-amazon-baby-products?resource=download) before executing.\n",
    "\n",
    "The first step in building sentiment analysis model, like all other ML models, is data preprocessing."
   ]
  },
  {
   "cell_type": "code",
   "execution_count": 5,
   "metadata": {},
   "outputs": [],
   "source": [
    "# Data Preparation\n",
    "import pandas as pd\n",
    "import numpy as np\n",
    "import tensorflow as tf\n",
    "\n",
    "from tensorflow.keras.preprocessing.text import Tokenizer\n",
    "from tensorflow.keras.preprocessing.sequence import pad_sequences\n",
    "\n",
    "df = pd.read_csv('./amazon_baby.csv')\n",
    "df['sentiments'] = df.rating.apply(lambda x: 0 if x in [1, 2] else 1)\n",
    "\n",
    "## Splitting the Dataset\n",
    "# 80% for training and 20% for testing.\n",
    "split = round(len(df)*0.8)\n",
    "train_reviews = df['review'][:split]\n",
    "train_label = df['sentiments'][:split]\n",
    "test_reviews = df['review'][split:]\n",
    "test_label = df['sentiments'][split:]\n",
    "\n",
    "## Guarantee Reviews are Strings\n",
    "# This is to ensure that, should the data not be in string format,\n",
    "# they will be proactively converted into a string.\n",
    "training_sentences = []\n",
    "training_labels = []\n",
    "testing_sentences = []\n",
    "testing_labels = []\n",
    "\n",
    "for row in train_reviews:\n",
    "    training_sentences.append(str(row))\n",
    "\n",
    "for row in train_label:\n",
    "    training_labels.append(row)\n",
    "\n",
    "for row in test_reviews:\n",
    "    testing_sentences.append(str(row))\n",
    "\n",
    "for row in test_label:\n",
    "    testing_labels.append(row)\n",
    "\n",
    "## Additional constants\n",
    "vocab_size = 40000\n",
    "embedding_dim = 16\n",
    "max_length = 120\n",
    "trunc_type = 'post'\n",
    "oov_tok = '<OOV>'\n",
    "padding_type = 'post'\n",
    "\n",
    "## Initialize the Tokenizer\n",
    "# A tokenizer identifies tokenizable elements in the data.\n",
    "# Here, we tokenize the words and assign values to them.\n",
    "tokenizer = Tokenizer(num_words=vocab_size, oov_token=oov_tok)\n",
    "tokenizer.fit_on_texts(training_sentences)\n",
    "word_index = tokenizer.word_index\n",
    "\n",
    "# This code block converts sentences in into sequences of words\n",
    "# and then pads if necessary.\n",
    "sequences = tokenizer.texts_to_sequences(training_sentences)\n",
    "padded = pad_sequences(sequences, maxlen=max_length,\n",
    "                       truncating=trunc_type)\n",
    "testing_sentences = tokenizer.texts_to_sequences(testing_sentences)\n",
    "testing_padded = pad_sequences(testing_sentences, maxlen=max_length)"
   ]
  },
  {
   "cell_type": "markdown",
   "metadata": {},
   "source": [
    "## Model Development\n",
    "\n",
    "Our algorithm will be a sequential model. The following is an exerpt from the source article:\n",
    "\n",
    "-----\n",
    "\n",
    "The first layer is the embedding layer where all the parameters have been defined and explained before. The second layer is ‘GlobalAveragePooling1D()’ flattens the vector. Originally the data is three-dimensional (batch_size x steps x features). GlobalAveragePooling1D makes it (batch_size x features).\n",
    "\n",
    "The third layer is a Dense layer where a ‘relu’ activation function is used. You can try ‘tanh’ or any other activation function of your choice. This layer is called the hidden layer. I used only one hidden layer. Feel free to try with multiple hidden layers. More complex problems may require more hidden layers. Also, I used 6 neurons here in my hidden layer. You may wonder how to choose the number of neurons.\n",
    "\n",
    "There are so many articles on that. [Here is a short article that provides some insights in brief](https://www.linkedin.com/pulse/choosing-number-hidden-layers-neurons-neural-networks-sachdev/).\n",
    "\n",
    "The last layer uses the sigmoid activation function or logistic function.\n",
    "\n",
    "-----"
   ]
  },
  {
   "cell_type": "code",
   "execution_count": 6,
   "metadata": {},
   "outputs": [
    {
     "name": "stdout",
     "output_type": "stream",
     "text": [
      "Model: \"sequential_1\"\n",
      "_________________________________________________________________\n",
      " Layer (type)                Output Shape              Param #   \n",
      "=================================================================\n",
      " embedding_1 (Embedding)     (None, 120, 16)           640000    \n",
      "                                                                 \n",
      " global_average_pooling1d_1  (None, 16)                0         \n",
      "  (GlobalAveragePooling1D)                                       \n",
      "                                                                 \n",
      " dense_2 (Dense)             (None, 6)                 102       \n",
      "                                                                 \n",
      " dense_3 (Dense)             (None, 1)                 7         \n",
      "                                                                 \n",
      "=================================================================\n",
      "Total params: 640109 (2.44 MB)\n",
      "Trainable params: 640109 (2.44 MB)\n",
      "Non-trainable params: 0 (0.00 Byte)\n",
      "_________________________________________________________________\n"
     ]
    }
   ],
   "source": [
    "# Model Development\n",
    "model = tf.keras.Sequential([\n",
    "    tf.keras.layers.Embedding(vocab_size, embedding_dim,\n",
    "                              input_length=max_length),\n",
    "    tf.keras.layers.GlobalAveragePooling1D(),\n",
    "    tf.keras.layers.Dense(6, activation='relu'),\n",
    "    tf.keras.layers.Dense(1, activation='sigmoid')\n",
    "])\n",
    "\n",
    "model.compile(loss='binary_crossentropy', optimizer='adam',\n",
    "              metrics=['accuracy'])\n",
    "model.summary()"
   ]
  },
  {
   "cell_type": "markdown",
   "metadata": {},
   "source": [
    "## Training the Model"
   ]
  },
  {
   "cell_type": "code",
   "execution_count": 7,
   "metadata": {},
   "outputs": [
    {
     "name": "stdout",
     "output_type": "stream",
     "text": [
      "Epoch 1/20\n"
     ]
    },
    {
     "name": "stderr",
     "output_type": "stream",
     "text": [
      "2024-02-25 22:22:09.603656: I external/local_tsl/tsl/platform/default/subprocess.cc:304] Start cannot spawn child process: No such file or directory\n",
      "2024-02-25 22:22:09.940376: I external/local_xla/xla/service/service.cc:168] XLA service 0x7febf08d2950 initialized for platform CUDA (this does not guarantee that XLA will be used). Devices:\n",
      "2024-02-25 22:22:09.940397: I external/local_xla/xla/service/service.cc:176]   StreamExecutor device (0): NVIDIA GeForce RTX 3090, Compute Capability 8.6\n",
      "2024-02-25 22:22:09.948702: I tensorflow/compiler/mlir/tensorflow/utils/dump_mlir_util.cc:269] disabling MLIR crash reproducer, set env var `MLIR_CRASH_REPRODUCER_DIRECTORY` to enable.\n",
      "2024-02-25 22:22:09.968189: I external/local_xla/xla/stream_executor/cuda/cuda_dnn.cc:454] Loaded cuDNN version 8907\n",
      "WARNING: All log messages before absl::InitializeLog() is called are written to STDERR\n",
      "I0000 00:00:1708928530.007813   15429 device_compiler.h:186] Compiled cluster using XLA!  This line is logged at most once for the lifetime of the process.\n"
     ]
    },
    {
     "name": "stdout",
     "output_type": "stream",
     "text": [
      "4589/4589 [==============================] - 53s 11ms/step - loss: 0.2955 - accuracy: 0.8793 - val_loss: 0.2129 - val_accuracy: 0.9125\n",
      "Epoch 2/20\n",
      "4589/4589 [==============================] - 36s 8ms/step - loss: 0.2130 - accuracy: 0.9121 - val_loss: 0.2046 - val_accuracy: 0.9148\n",
      "Epoch 3/20\n",
      "4589/4589 [==============================] - 34s 8ms/step - loss: 0.1982 - accuracy: 0.9190 - val_loss: 0.2040 - val_accuracy: 0.9158\n",
      "Epoch 4/20\n",
      "4589/4589 [==============================] - 36s 8ms/step - loss: 0.1893 - accuracy: 0.9227 - val_loss: 0.2088 - val_accuracy: 0.9147\n",
      "Epoch 5/20\n",
      "4589/4589 [==============================] - 33s 7ms/step - loss: 0.1822 - accuracy: 0.9264 - val_loss: 0.2062 - val_accuracy: 0.9153\n",
      "Epoch 6/20\n",
      "4589/4589 [==============================] - 34s 8ms/step - loss: 0.1761 - accuracy: 0.9286 - val_loss: 0.2087 - val_accuracy: 0.9156\n",
      "Epoch 7/20\n",
      "4589/4589 [==============================] - 34s 7ms/step - loss: 0.1709 - accuracy: 0.9311 - val_loss: 0.2091 - val_accuracy: 0.9159\n",
      "Epoch 8/20\n",
      "4589/4589 [==============================] - 35s 8ms/step - loss: 0.1667 - accuracy: 0.9323 - val_loss: 0.2123 - val_accuracy: 0.9131\n",
      "Epoch 9/20\n",
      "4589/4589 [==============================] - 35s 8ms/step - loss: 0.1630 - accuracy: 0.9339 - val_loss: 0.2165 - val_accuracy: 0.9118\n",
      "Epoch 10/20\n",
      "4589/4589 [==============================] - 35s 8ms/step - loss: 0.1593 - accuracy: 0.9355 - val_loss: 0.2203 - val_accuracy: 0.9163\n",
      "Epoch 11/20\n",
      "4589/4589 [==============================] - 36s 8ms/step - loss: 0.1560 - accuracy: 0.9368 - val_loss: 0.2234 - val_accuracy: 0.9157\n",
      "Epoch 12/20\n",
      "4589/4589 [==============================] - 35s 8ms/step - loss: 0.1525 - accuracy: 0.9383 - val_loss: 0.2265 - val_accuracy: 0.9130\n",
      "Epoch 13/20\n",
      "4589/4589 [==============================] - 34s 7ms/step - loss: 0.1492 - accuracy: 0.9399 - val_loss: 0.2306 - val_accuracy: 0.9088\n",
      "Epoch 14/20\n",
      "4589/4589 [==============================] - 34s 7ms/step - loss: 0.1457 - accuracy: 0.9411 - val_loss: 0.2388 - val_accuracy: 0.9134\n",
      "Epoch 15/20\n",
      "4589/4589 [==============================] - 34s 7ms/step - loss: 0.1422 - accuracy: 0.9424 - val_loss: 0.2397 - val_accuracy: 0.9121\n",
      "Epoch 16/20\n",
      "4589/4589 [==============================] - 34s 7ms/step - loss: 0.1386 - accuracy: 0.9440 - val_loss: 0.2427 - val_accuracy: 0.9117\n",
      "Epoch 17/20\n",
      "4589/4589 [==============================] - 34s 7ms/step - loss: 0.1350 - accuracy: 0.9454 - val_loss: 0.2480 - val_accuracy: 0.9106\n",
      "Epoch 18/20\n",
      "4589/4589 [==============================] - 35s 8ms/step - loss: 0.1312 - accuracy: 0.9474 - val_loss: 0.2544 - val_accuracy: 0.9114\n",
      "Epoch 19/20\n",
      "4589/4589 [==============================] - 35s 8ms/step - loss: 0.1279 - accuracy: 0.9485 - val_loss: 0.2584 - val_accuracy: 0.9110\n",
      "Epoch 20/20\n",
      "4589/4589 [==============================] - 35s 8ms/step - loss: 0.1246 - accuracy: 0.9505 - val_loss: 0.2719 - val_accuracy: 0.9079\n"
     ]
    },
    {
     "data": {
      "text/plain": [
       "<Figure size 640x480 with 0 Axes>"
      ]
     },
     "execution_count": 7,
     "metadata": {},
     "output_type": "execute_result"
    },
    {
     "data": {
      "image/png": "[encoded data removed]",
      "text/plain": [
       "<Figure size 640x480 with 1 Axes>"
      ]
     },
     "metadata": {},
     "output_type": "display_data"
    },
    {
     "data": {
      "image/png": "[encoded data removed]",
      "text/plain": [
       "<Figure size 640x480 with 1 Axes>"
      ]
     },
     "metadata": {},
     "output_type": "display_data"
    },
    {
     "data": {
      "text/plain": [
       "<Figure size 640x480 with 0 Axes>"
      ]
     },
     "metadata": {},
     "output_type": "display_data"
    }
   ],
   "source": [
    "# Model Training\n",
    "import matplotlib.pyplot as plt\n",
    "import matplotlib.image as mpimg\n",
    "\n",
    "training_labels_final = np.array(training_labels)\n",
    "testing_labels_final = np.array(testing_labels)\n",
    "\n",
    "num_epochs = 20\n",
    "history = model.fit(padded, training_labels_final, epochs=num_epochs,\n",
    "                    validation_data=(testing_padded, testing_labels_final))\n",
    "\n",
    "acc = history.history['accuracy']\n",
    "val_acc = history.history['val_accuracy']\n",
    "loss = history.history['loss']\n",
    "val_loss = history.history['val_loss']\n",
    "epochs=range(len(acc))\n",
    "plt.plot(epochs, acc, 'r', 'Training Accuracy')\n",
    "plt.plot(epochs, val_acc, 'b', 'Validation Accuracy')\n",
    "plt.title('Training and validation accuracy')\n",
    "plt.figure()\n",
    "plt.plot(epochs, loss, 'r', 'Training Loss')\n",
    "plt.plot(epochs, val_loss, 'b', 'Validation Loss')\n",
    "plt.title('Training and validation loss')\n",
    "plt.figure()"
   ]
  }
 ],
 "metadata": {
  "kernelspec": {
   "display_name": "Python 3",
   "language": "python",
   "name": "python3"
  },
  "language_info": {
   "codemirror_mode": {
    "name": "ipython",
    "version": 3
   },
   "file_extension": ".py",
   "mimetype": "text/x-python",
   "name": "python",
   "nbconvert_exporter": "python",
   "pygments_lexer": "ipython3",
   "version": "3.10.12"
  }
 },
 "nbformat": 4,
 "nbformat_minor": 2
}
