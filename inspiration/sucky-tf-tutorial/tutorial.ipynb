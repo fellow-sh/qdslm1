{
 "cells": [
  {
   "cell_type": "markdown",
   "metadata": {},
   "source": [
    "# A Complete Step by Step Tutorial on Sentiment Analysis in Keras and Tensorflow\n",
    "\n",
    "This is a Jupyter notebook that implements the tutorial described by [an article by Rashida Nasrin Sucky](https://towardsdatascience.com/a-complete-step-by-step-tutorial-on-sentiment-analysis-in-keras-and-tensorflow-ea420cc8913f)."
   ]
  },
  {
   "cell_type": "markdown",
   "metadata": {},
   "source": [
    "## Data Preparation\n",
    "\n",
    "Download the the dataset [\"Reviews of Amazon Baby Products\"](https://www.kaggle.com/datasets/sameersmahajan/reviews-of-amazon-baby-products?resource=download) before executing.\n",
    "\n",
    "The first step in building sentiment analysis model, like all other ML models, is data preprocessing."
   ]
  },
  {
   "cell_type": "code",
   "execution_count": 2,
   "metadata": {},
   "outputs": [
    {
     "name": "stderr",
     "output_type": "stream",
     "text": [
      "2024-02-25 21:48:22.602749: E external/local_xla/xla/stream_executor/cuda/cuda_dnn.cc:9261] Unable to register cuDNN factory: Attempting to register factory for plugin cuDNN when one has already been registered\n",
      "2024-02-25 21:48:22.602788: E external/local_xla/xla/stream_executor/cuda/cuda_fft.cc:607] Unable to register cuFFT factory: Attempting to register factory for plugin cuFFT when one has already been registered\n",
      "2024-02-25 21:48:22.623271: E external/local_xla/xla/stream_executor/cuda/cuda_blas.cc:1515] Unable to register cuBLAS factory: Attempting to register factory for plugin cuBLAS when one has already been registered\n",
      "2024-02-25 21:48:22.677957: I tensorflow/core/platform/cpu_feature_guard.cc:182] This TensorFlow binary is optimized to use available CPU instructions in performance-critical operations.\n",
      "To enable the following instructions: AVX2 FMA, in other operations, rebuild TensorFlow with the appropriate compiler flags.\n",
      "2024-02-25 21:48:23.333512: W tensorflow/compiler/tf2tensorrt/utils/py_utils.cc:38] TF-TRT Warning: Could not find TensorRT\n"
     ]
    }
   ],
   "source": [
    "import pandas as pd\n",
    "import numpy as np\n",
    "\n",
    "from tensorflow.keras.preprocessing.text import Tokenizer\n",
    "from tensorflow.keras.preprocessing.sequence import pad_sequences\n",
    "\n",
    "df = pd.read_csv('./amazon_baby.csv')\n",
    "df['sentiments'] = df.rating.apply(lambda x: 0 if x in [1, 2] else 1)\n",
    "\n",
    "## Splitting the Dataset\n",
    "# 80% for training and 20% for testing.\n",
    "split = round(len(df)*0.8)\n",
    "train_reviews = df['review'][:split]\n",
    "train_label = df['sentiments'][:split]\n",
    "test_reviews = df['review'][split:]\n",
    "test_label = df['sentiments'][split:]\n",
    "\n",
    "## Guarantee Reviews are Strings\n",
    "# This is to ensure that, should the data not be in string format,\n",
    "# they will be proactively converted into a string.\n",
    "training_sentences = []\n",
    "training_labels = []\n",
    "testing_sentences = []\n",
    "testing_labels = []\n",
    "\n",
    "for row in train_reviews:\n",
    "    training_sentences.append(str(row))\n",
    "\n",
    "for row in train_label:\n",
    "    training_labels.append(row)\n",
    "\n",
    "for row in test_reviews:\n",
    "    testing_sentences.append(str(row))\n",
    "\n",
    "for row in test_label:\n",
    "    testing_labels.append(row)\n",
    "\n",
    "## Additional constants\n",
    "vocab_size = 40000\n",
    "embedding_dim = 16\n",
    "max_length = 120\n",
    "trunc_type = 'post'\n",
    "oov_tok = '<OOV>'\n",
    "padding_type = 'post'\n",
    "\n",
    "## Initialize the Tokenizer\n",
    "# A tokenizer identifies tokenizable elements in the data.\n",
    "# Here, we tokenize the words and assign values to them.\n",
    "tokenizer = Tokenizer(num_words=vocab_size, oov_token=oov_tok)\n",
    "tokenizer.fit_on_texts(training_sentences)\n",
    "word_index = tokenizer.word_index\n",
    "\n",
    "# This code block converts sentences in into sequences of words\n",
    "# and then pads if necessary.\n",
    "sequences = tokenizer.texts_to_sequences(training_sentences)\n",
    "padded = pad_sequences(sequences, maxlen=max_length,\n",
    "                       truncating=trunc_type)\n",
    "testing_sentences = tokenizer.texts_to_sequences(testing_sentences)\n",
    "testing_padded = pad_sequences(testing_sentences, maxlen=max_length)"
   ]
  }
 ],
 "metadata": {
  "kernelspec": {
   "display_name": "Python 3",
   "language": "python",
   "name": "python3"
  },
  "language_info": {
   "codemirror_mode": {
    "name": "ipython",
    "version": 3
   },
   "file_extension": ".py",
   "mimetype": "text/x-python",
   "name": "python",
   "nbconvert_exporter": "python",
   "pygments_lexer": "ipython3",
   "version": "3.10.12"
  }
 },
 "nbformat": 4,
 "nbformat_minor": 2
}
